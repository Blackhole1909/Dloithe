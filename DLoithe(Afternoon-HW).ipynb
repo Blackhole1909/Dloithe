{
 "cells": [
  {
   "cell_type": "code",
   "execution_count": 1,
   "id": "fa3ee703",
   "metadata": {},
   "outputs": [
    {
     "name": "stdout",
     "output_type": "stream",
     "text": [
      "*****\n",
      "*****\n",
      "*****\n",
      "*****\n",
      "*****\n"
     ]
    }
   ],
   "source": [
    "#5X5 Star pattern\n",
    "for i in range(5):\n",
    "    for j in range(5):\n",
    "        print(\"*\", end=\"\")\n",
    "    print()"
   ]
  },
  {
   "cell_type": "code",
   "execution_count": 2,
   "id": "24a897c8",
   "metadata": {},
   "outputs": [
    {
     "name": "stdout",
     "output_type": "stream",
     "text": [
      "Enter the number of rows: 5\n",
      "5   4   3   2   1   \n",
      "  4   3   2   1   \n",
      "    3   2   1   \n",
      "      2   1   \n",
      "        1   \n"
     ]
    }
   ],
   "source": [
    "#inverted triangle\n",
    "n = int(input(\"Enter the number of rows: \"))\n",
    "for i in range(n, 0, -1):\n",
    "    for j in range(n - i):\n",
    "        print(\" \", end=\" \")\n",
    "    for j in range(i):\n",
    "        print(i - j, end=\"   \")\n",
    "    print()\n",
    "\n"
   ]
  },
  {
   "cell_type": "code",
   "execution_count": 3,
   "id": "36d14b7b",
   "metadata": {},
   "outputs": [
    {
     "name": "stdout",
     "output_type": "stream",
     "text": [
      "Enter size5\n",
      "*   *\n",
      " * * \n",
      "  *  \n",
      " * * \n",
      "*   *\n"
     ]
    }
   ],
   "source": [
    "#stars in cross shape\n",
    "size = int(input(\"Enter size\"))  \n",
    "for i in range(size):\n",
    "    for j in range(size):\n",
    "        if i == j or i + j == size - 1:\n",
    "            print(\"*\", end=\"\")\n",
    "        else:\n",
    "            print(\" \", end=\"\")\n",
    "    print()\n"
   ]
  },
  {
   "cell_type": "code",
   "execution_count": null,
   "id": "6840c5cd",
   "metadata": {},
   "outputs": [],
   "source": []
  }
 ],
 "metadata": {
  "kernelspec": {
   "display_name": "Python 3 (ipykernel)",
   "language": "python",
   "name": "python3"
  },
  "language_info": {
   "codemirror_mode": {
    "name": "ipython",
    "version": 3
   },
   "file_extension": ".py",
   "mimetype": "text/x-python",
   "name": "python",
   "nbconvert_exporter": "python",
   "pygments_lexer": "ipython3",
   "version": "3.11.5"
  }
 },
 "nbformat": 4,
 "nbformat_minor": 5
}
