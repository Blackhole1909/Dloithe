{
 "cells": [
  {
   "cell_type": "code",
   "execution_count": 1,
   "id": "1d7c7fbb",
   "metadata": {},
   "outputs": [
    {
     "name": "stdout",
     "output_type": "stream",
     "text": [
      "Enter stringsumitavshetty\n",
      "String size: 13\n",
      "Number of vowels: 4\n"
     ]
    }
   ],
   "source": [
    "string = input(\"Enter string\")\n",
    "def count_vowels(s):\n",
    "    vowels = \"aeiouAEIOU\"\n",
    "    count = 0\n",
    "    for char in s:\n",
    "        if char in vowels:\n",
    "            count += 1\n",
    "    return count\n",
    "\n",
    "size = len(string)\n",
    "\n",
    "num_vowels = count_vowels(string)\n",
    "\n",
    "print(\"String size:\", size)\n",
    "print(\"Number of vowels:\", num_vowels)\n"
   ]
  },
  {
   "cell_type": "code",
   "execution_count": 3,
   "id": "2aedd1aa",
   "metadata": {},
   "outputs": [
    {
     "name": "stdout",
     "output_type": "stream",
     "text": [
      "Enter name of the game you want to installAngry Birds\n"
     ]
    }
   ],
   "source": [
    "import webbrowser\n",
    "\n",
    "# Function to open Google Play and navigate to a specific game\n",
    "def open_google_play(game_name):\n",
    "    base_url = \"https://play.google.com/store/search?q=\"\n",
    "    search_url = base_url + game_name.replace(\" \", \"+\") + \"&c=apps\"\n",
    "    webbrowser.open(search_url)\n",
    "\n",
    "\n",
    "game_name = input(\"Enter name of the game you want to install\")\n",
    "open_google_play(game_name)\n"
   ]
  },
  {
   "cell_type": "code",
   "execution_count": null,
   "id": "c3b7f29a",
   "metadata": {},
   "outputs": [],
   "source": []
  }
 ],
 "metadata": {
  "kernelspec": {
   "display_name": "Python 3 (ipykernel)",
   "language": "python",
   "name": "python3"
  },
  "language_info": {
   "codemirror_mode": {
    "name": "ipython",
    "version": 3
   },
   "file_extension": ".py",
   "mimetype": "text/x-python",
   "name": "python",
   "nbconvert_exporter": "python",
   "pygments_lexer": "ipython3",
   "version": "3.11.5"
  }
 },
 "nbformat": 4,
 "nbformat_minor": 5
}
