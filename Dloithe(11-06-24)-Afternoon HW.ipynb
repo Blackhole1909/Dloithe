{
 "cells": [
  {
   "cell_type": "code",
   "execution_count": 4,
   "id": "e40314c1",
   "metadata": {},
   "outputs": [
    {
     "name": "stdout",
     "output_type": "stream",
     "text": [
      "Enter Dividend value16\n",
      "Enter Divisor Value4\n",
      "Quotient =  4\n"
     ]
    }
   ],
   "source": [
    "def divide(dividend, divisor):\n",
    "    if (dividend < 0) or (divisor < 0):\n",
    "        sign = -1\n",
    "    else:\n",
    "        sign = 1 #Determines if quotient is +ve or -ve\n",
    " \n",
    "    dividend, divisor = abs(dividend), abs(divisor)\n",
    " \n",
    "    quotient = 0\n",
    "    while dividend >= divisor:\n",
    "        dividend -= divisor\n",
    "        quotient += 1\n",
    " \n",
    "    return sign * quotient\n",
    " \n",
    "dividend = int(input(\"Enter Dividend value\"))\n",
    "divisor = int(input(\"Enter Divisor Value\"))\n",
    "print(\"Quotient = \",divide(dividend,divisor))\n"
   ]
  },
  {
   "cell_type": "code",
   "execution_count": null,
   "id": "058aa4e0",
   "metadata": {},
   "outputs": [],
   "source": []
  }
 ],
 "metadata": {
  "kernelspec": {
   "display_name": "Python 3 (ipykernel)",
   "language": "python",
   "name": "python3"
  },
  "language_info": {
   "codemirror_mode": {
    "name": "ipython",
    "version": 3
   },
   "file_extension": ".py",
   "mimetype": "text/x-python",
   "name": "python",
   "nbconvert_exporter": "python",
   "pygments_lexer": "ipython3",
   "version": "3.11.5"
  }
 },
 "nbformat": 4,
 "nbformat_minor": 5
}
