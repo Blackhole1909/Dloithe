{
 "cells": [
  {
   "cell_type": "code",
   "execution_count": 8,
   "id": "d3154bfb",
   "metadata": {},
   "outputs": [
    {
     "name": "stdout",
     "output_type": "stream",
     "text": [
      "Enter no.19\n",
      "Prime no.\n"
     ]
    }
   ],
   "source": [
    "num = int(input(\"Enter no.\"))\n",
    "if num>1:\n",
    "    for i in range(2,num):\n",
    "        if(num%i==0):\n",
    "            print(\"Not a prime no.\")\n",
    "            break\n",
    "        else:\n",
    "            print(\"Prime no.\")\n",
    "            break\n",
    "else:\n",
    "    print(\"not a prime no.\")"
   ]
  },
  {
   "cell_type": "code",
   "execution_count": 9,
   "id": "c941e91a",
   "metadata": {},
   "outputs": [
    {
     "name": "stdout",
     "output_type": "stream",
     "text": [
      "Before Swapping\n",
      "a= 5\n",
      "b= 3\n",
      "After Swapping\n",
      "a= 3\n",
      "b= 5\n"
     ]
    }
   ],
   "source": [
    "#With a third variable\n",
    "a=5\n",
    "b=3\n",
    "print(\"Before Swapping\")\n",
    "print(\"a =\",a)\n",
    "print(\"b =\",b)\n",
    "c=b\n",
    "b=a\n",
    "a=c\n",
    "print(\"After Swapping\")\n",
    "print(\"a =\",a)\n",
    "print(\"b =\",b)"
   ]
  },
  {
   "cell_type": "code",
   "execution_count": 13,
   "id": "1ab5296c",
   "metadata": {},
   "outputs": [
    {
     "name": "stdout",
     "output_type": "stream",
     "text": [
      "Before Swapping\n",
      "a = 5\n",
      "b = 3\n",
      "After Swapping\n",
      "a = 3\n",
      "b = 5\n"
     ]
    }
   ],
   "source": [
    "#Without a third variable\n",
    "a=5\n",
    "b=3\n",
    "print(\"Before Swapping\")\n",
    "print(\"a =\",a)\n",
    "print(\"b =\",b)\n",
    "a,b=b,a\n",
    "print(\"After Swapping\")\n",
    "print(\"a =\",a)\n",
    "print(\"b =\",b)"
   ]
  },
  {
   "cell_type": "code",
   "execution_count": 1,
   "id": "9265d6a5",
   "metadata": {
    "scrolled": true
   },
   "outputs": [
    {
     "name": "stdout",
     "output_type": "stream",
     "text": [
      "enter a palindrome:mom\n",
      "True\n"
     ]
    }
   ],
   "source": [
    "palindrome = input(\"enter a palindrome:\")\n",
    "if(palindrome==palindrome[::-1]):\n",
    "    print(\"True\")\n",
    "else:\n",
    "    print(\"false\")"
   ]
  },
  {
   "cell_type": "code",
   "execution_count": 2,
   "id": "8b0529e4",
   "metadata": {},
   "outputs": [
    {
     "name": "stdout",
     "output_type": "stream",
     "text": [
      "Enter number121\n",
      "True\n"
     ]
    }
   ],
   "source": [
    "n=int(input(\"Enter number\"))\n",
    "temp=n\n",
    "reverse=0\n",
    "while(temp>0):\n",
    "    d=temp%10\n",
    "    reverse=reverse*10+d\n",
    "    temp=temp//10\n",
    "if(n==reverse):\n",
    "    print(\"True\")\n",
    "else:\n",
    "    print(\"False\")"
   ]
  },
  {
   "cell_type": "code",
   "execution_count": 5,
   "id": "fce410f3",
   "metadata": {},
   "outputs": [
    {
     "name": "stdout",
     "output_type": "stream",
     "text": [
      "Enter a range.9\n",
      "Prime no.\n",
      "9\n",
      "Not a prime no.\n",
      "Prime no.\n",
      "9\n",
      "Prime no.\n",
      "9\n",
      "Prime no.\n",
      "9\n",
      "Prime no.\n",
      "9\n",
      "Prime no.\n",
      "9\n"
     ]
    }
   ],
   "source": [
    "num = int(input(\"Enter a range.\"))\n",
    "if num>1:\n",
    "    for i in range(2,num):\n",
    "        if(num%i==0):\n",
    "            print(\"Not a prime no.\")\n",
    "            break\n",
    "        else:\n",
    "            print(\"Prime no.\")\n",
    "            print(num)\n",
    "            break\n",
    "else:\n",
    "    print(\"not a prime no.\")"
   ]
  },
  {
   "cell_type": "code",
   "execution_count": 2,
   "id": "7267b55e",
   "metadata": {},
   "outputs": [
    {
     "name": "stdout",
     "output_type": "stream",
     "text": [
      "*****\n",
      "*****\n",
      "*****\n",
      "*****\n",
      "*****\n"
     ]
    }
   ],
   "source": [
    "#5X5 Star pattern\n",
    "for i in range(5):\n",
    "    for j in range(5):\n",
    "        print(\"*\", end=\"\")\n",
    "    print()"
   ]
  },
  {
   "cell_type": "code",
   "execution_count": 22,
   "id": "2351ea1a",
   "metadata": {},
   "outputs": [
    {
     "name": "stdout",
     "output_type": "stream",
     "text": [
      " 5 4 3 2 1 \n",
      "  5 4 3 2 \n",
      "   5 4 3 \n",
      "    5 4 \n",
      "     5 \n"
     ]
    }
   ],
   "source": [
    "#triangle pattern 54321 4321 321 21 1\n",
    "for i in range(5):\n",
    "    for j in range(i+1):\n",
    "        print(\" \", end=\"\")\n",
    "    for j in range(5 - i):\n",
    "        print(5 - j,\"\", end=\"\")\n",
    "    print()\n",
    "\n",
    " \n"
   ]
  },
  {
   "cell_type": "code",
   "execution_count": 24,
   "id": "bb746e64",
   "metadata": {},
   "outputs": [
    {
     "name": "stdout",
     "output_type": "stream",
     "text": [
      "Enter size3\n",
      "* *\n",
      " * \n",
      "* *\n"
     ]
    }
   ],
   "source": [
    "#stars in cross shape\n",
    "size = int(input(\"Enter size\"))  \n",
    "for i in range(size):\n",
    "    for j in range(size):\n",
    "        if i == j or i + j == size - 1:\n",
    "            print(\"*\", end=\"\")\n",
    "        else:\n",
    "            print(\" \", end=\"\")\n",
    "    print()\n"
   ]
  },
  {
   "cell_type": "code",
   "execution_count": null,
   "id": "51610d6e",
   "metadata": {},
   "outputs": [],
   "source": []
  }
 ],
 "metadata": {
  "kernelspec": {
   "display_name": "Python 3 (ipykernel)",
   "language": "python",
   "name": "python3"
  },
  "language_info": {
   "codemirror_mode": {
    "name": "ipython",
    "version": 3
   },
   "file_extension": ".py",
   "mimetype": "text/x-python",
   "name": "python",
   "nbconvert_exporter": "python",
   "pygments_lexer": "ipython3",
   "version": "3.11.5"
  }
 },
 "nbformat": 4,
 "nbformat_minor": 5
}
