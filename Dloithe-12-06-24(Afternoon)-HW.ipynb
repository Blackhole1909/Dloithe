{
 "cells": [
  {
   "cell_type": "code",
   "execution_count": 2,
   "id": "d7ffc7b7",
   "metadata": {},
   "outputs": [
    {
     "name": "stdout",
     "output_type": "stream",
     "text": [
      "Enter array size :4\n",
      "-1\n",
      "0\n",
      "-1\n",
      "2\n",
      "Triplet found: -1, -1, 2\n",
      "1\n"
     ]
    }
   ],
   "source": [
    "def findTriplets(arr, n):\n",
    "    arr.sort()\n",
    "    for i in range(n - 2):\n",
    "        left = i + 1\n",
    "        right = n - 1\n",
    "        while left < right:\n",
    "            current_sum = arr[i] + arr[left] + arr[right]\n",
    "            if current_sum == 0:\n",
    "                print(f\"Triplet found: {arr[i]}, {arr[left]}, {arr[right]}\")\n",
    "                return 1\n",
    "            elif current_sum < 0:\n",
    "                left += 1\n",
    "            else:\n",
    "                right -= 1\n",
    "    return 0\n",
    "\n",
    "arr=[]\n",
    "n= int(input(\"Enter array size :\"))\n",
    "if n>=1 and n<=10**5:\n",
    "    if n>=1 and n<=10**6:\n",
    "        for i in range(n):\n",
    "            value=int(input())\n",
    "            arr.append(value)\n",
    "        print(findTriplets(arr,n))\n",
    "\n",
    "else: \n",
    "    print(\"enter values between 1 and 10^6\")\n"
   ]
  },
  {
   "cell_type": "code",
   "execution_count": null,
   "id": "05f3e703",
   "metadata": {},
   "outputs": [],
   "source": []
  }
 ],
 "metadata": {
  "kernelspec": {
   "display_name": "Python 3 (ipykernel)",
   "language": "python",
   "name": "python3"
  },
  "language_info": {
   "codemirror_mode": {
    "name": "ipython",
    "version": 3
   },
   "file_extension": ".py",
   "mimetype": "text/x-python",
   "name": "python",
   "nbconvert_exporter": "python",
   "pygments_lexer": "ipython3",
   "version": "3.11.5"
  }
 },
 "nbformat": 4,
 "nbformat_minor": 5
}
